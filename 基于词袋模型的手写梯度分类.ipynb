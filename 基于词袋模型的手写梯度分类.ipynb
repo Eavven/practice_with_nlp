{
 "cells": [
  {
   "cell_type": "code",
   "execution_count": 4,
   "metadata": {
    "id": "0AA9682A00804042A9462B87EA114DB9",
    "jupyter": {},
    "scrolled": false,
    "slideshow": {
     "slide_type": "slide"
    },
    "tags": []
   },
   "outputs": [],
   "source": [
    "import pandas as pd \n",
    "import numpy as np\n",
    "import re"
   ]
  },
  {
   "cell_type": "code",
   "execution_count": 5,
   "metadata": {
    "id": "38E5F963407B45BB927338C0B919B591",
    "jupyter": {},
    "scrolled": false,
    "slideshow": {
     "slide_type": "slide"
    },
    "tags": []
   },
   "outputs": [],
   "source": [
    "path_train = r'/home/kesci/input/qiu_assignment7108/train.tsv'\n",
    "path_test = r'/home/kesci/input/qiu_assignment7108/test.tsv'"
   ]
  },
  {
   "cell_type": "code",
   "execution_count": 6,
   "metadata": {
    "id": "53FCE5F3C70B4B748F0A7F5DB30E5C83",
    "jupyter": {},
    "scrolled": false,
    "slideshow": {
     "slide_type": "slide"
    },
    "tags": []
   },
   "outputs": [],
   "source": [
    "train = pd.read_csv(path_train,sep = '\\t')\n",
    "test = pd.read_csv(path_test,sep = '\\t')"
   ]
  },
  {
   "cell_type": "code",
   "execution_count": 7,
   "metadata": {
    "id": "357392E55AB8401E8D985C71B78BD791",
    "jupyter": {},
    "scrolled": false,
    "slideshow": {
     "slide_type": "slide"
    },
    "tags": []
   },
   "outputs": [
    {
     "data": {
      "text/html": [
       "<div>\n",
       "<style scoped>\n",
       "    .dataframe tbody tr th:only-of-type {\n",
       "        vertical-align: middle;\n",
       "    }\n",
       "\n",
       "    .dataframe tbody tr th {\n",
       "        vertical-align: top;\n",
       "    }\n",
       "\n",
       "    .dataframe thead th {\n",
       "        text-align: right;\n",
       "    }\n",
       "</style>\n",
       "<table border=\"1\" class=\"dataframe\">\n",
       "  <thead>\n",
       "    <tr style=\"text-align: right;\">\n",
       "      <th></th>\n",
       "      <th>PhraseId</th>\n",
       "      <th>SentenceId</th>\n",
       "      <th>Phrase</th>\n",
       "      <th>Sentiment</th>\n",
       "    </tr>\n",
       "  </thead>\n",
       "  <tbody>\n",
       "    <tr>\n",
       "      <td>0</td>\n",
       "      <td>1</td>\n",
       "      <td>1</td>\n",
       "      <td>A series of escapades demonstrating the adage ...</td>\n",
       "      <td>1</td>\n",
       "    </tr>\n",
       "    <tr>\n",
       "      <td>1</td>\n",
       "      <td>2</td>\n",
       "      <td>1</td>\n",
       "      <td>A series of escapades demonstrating the adage ...</td>\n",
       "      <td>2</td>\n",
       "    </tr>\n",
       "    <tr>\n",
       "      <td>2</td>\n",
       "      <td>3</td>\n",
       "      <td>1</td>\n",
       "      <td>A series</td>\n",
       "      <td>2</td>\n",
       "    </tr>\n",
       "    <tr>\n",
       "      <td>3</td>\n",
       "      <td>4</td>\n",
       "      <td>1</td>\n",
       "      <td>A</td>\n",
       "      <td>2</td>\n",
       "    </tr>\n",
       "    <tr>\n",
       "      <td>4</td>\n",
       "      <td>5</td>\n",
       "      <td>1</td>\n",
       "      <td>series</td>\n",
       "      <td>2</td>\n",
       "    </tr>\n",
       "  </tbody>\n",
       "</table>\n",
       "</div>"
      ],
      "text/plain": [
       "   PhraseId  SentenceId                                             Phrase  \\\n",
       "0         1           1  A series of escapades demonstrating the adage ...   \n",
       "1         2           1  A series of escapades demonstrating the adage ...   \n",
       "2         3           1                                           A series   \n",
       "3         4           1                                                  A   \n",
       "4         5           1                                             series   \n",
       "\n",
       "   Sentiment  \n",
       "0          1  \n",
       "1          2  \n",
       "2          2  \n",
       "3          2  \n",
       "4          2  "
      ]
     },
     "execution_count": 7,
     "metadata": {},
     "output_type": "execute_result"
    }
   ],
   "source": [
    "train.head()"
   ]
  },
  {
   "cell_type": "code",
   "execution_count": 8,
   "metadata": {
    "id": "2742A6A1F282431A8CC0D684C689DD36",
    "jupyter": {},
    "scrolled": false,
    "slideshow": {
     "slide_type": "slide"
    },
    "tags": []
   },
   "outputs": [],
   "source": [
    "corpus = train['Phrase'].tolist()"
   ]
  },
  {
   "cell_type": "code",
   "execution_count": 9,
   "metadata": {
    "id": "4C62A65407C64097897EC4F429B2DCEC",
    "jupyter": {},
    "scrolled": false,
    "slideshow": {
     "slide_type": "slide"
    },
    "tags": []
   },
   "outputs": [],
   "source": [
    "#大小写转换，去除标点符号\n",
    "for i in range(len(corpus )):\n",
    "    corpus [i] = corpus [i].lower()\n",
    "    corpus [i] = re.sub(r'\\W',' ',corpus [i])\n",
    "    corpus [i] = re.sub(r'\\s+',' ',corpus [i])"
   ]
  },
  {
   "cell_type": "code",
   "execution_count": 10,
   "metadata": {
    "id": "2E5E0BB599A74E3B82837AFB4A6E717E",
    "jupyter": {},
    "scrolled": false,
    "slideshow": {
     "slide_type": "slide"
    },
    "tags": []
   },
   "outputs": [
    {
     "data": {
      "text/plain": [
       "['a series of escapades demonstrating the adage that what is good for the goose',\n",
       " 'a series']"
      ]
     },
     "execution_count": 10,
     "metadata": {},
     "output_type": "execute_result"
    }
   ],
   "source": [
    "corpus[1:3]"
   ]
  },
  {
   "cell_type": "code",
   "execution_count": 11,
   "metadata": {
    "id": "861C31736F834409B8D68BD02395896E",
    "jupyter": {},
    "scrolled": false,
    "slideshow": {
     "slide_type": "slide"
    },
    "tags": []
   },
   "outputs": [],
   "source": [
    "Y = train['Sentiment']"
   ]
  },
  {
   "cell_type": "code",
   "execution_count": 12,
   "metadata": {
    "id": "B368A07CDD7243D6B761AF37B4FF7BDA",
    "jupyter": {},
    "scrolled": false,
    "slideshow": {
     "slide_type": "slide"
    },
    "tags": []
   },
   "outputs": [
    {
     "data": {
      "text/plain": [
       "{0, 1, 2, 3, 4}"
      ]
     },
     "execution_count": 12,
     "metadata": {},
     "output_type": "execute_result"
    }
   ],
   "source": [
    "set(Y)"
   ]
  },
  {
   "cell_type": "code",
   "execution_count": 13,
   "metadata": {
    "id": "517ED53912604EB49D4A48168B186325",
    "jupyter": {},
    "scrolled": false,
    "slideshow": {
     "slide_type": "slide"
    },
    "tags": []
   },
   "outputs": [],
   "source": [
    "##分词\n",
    "def tokenize(sentences, token='word'):\n",
    "    \"\"\"Split sentences into word or char tokens\"\"\"\n",
    "    if token == 'word':\n",
    "        return [sentence.split(' ') for sentence in sentences]\n",
    "    elif token == 'char':\n",
    "        return [list(sentence) for sentence in sentences]\n",
    "    else:\n",
    "        print('ERROR: unkown token type '+token)"
   ]
  },
  {
   "cell_type": "code",
   "execution_count": 14,
   "metadata": {
    "id": "84A5D9AA2AEF4E7893DC2B1E425AF403",
    "jupyter": {},
    "scrolled": false,
    "slideshow": {
     "slide_type": "slide"
    },
    "tags": []
   },
   "outputs": [],
   "source": [
    "df = tokenize(corpus)"
   ]
  },
  {
   "cell_type": "code",
   "execution_count": 15,
   "metadata": {
    "id": "2A60E2318C2F48EC8E743D878A8122C4",
    "jupyter": {},
    "scrolled": false,
    "slideshow": {
     "slide_type": "slide"
    },
    "tags": []
   },
   "outputs": [
    {
     "data": {
      "text/plain": [
       "[['good'], ['for', 'the', 'goose'], ['for']]"
      ]
     },
     "execution_count": 15,
     "metadata": {},
     "output_type": "execute_result"
    }
   ],
   "source": [
    "df[22:25]"
   ]
  },
  {
   "cell_type": "code",
   "execution_count": 16,
   "metadata": {
    "id": "D8D2A6F2691D493C8F392C717EEA7DEA",
    "jupyter": {},
    "scrolled": false,
    "slideshow": {
     "slide_type": "slide"
    },
    "tags": []
   },
   "outputs": [],
   "source": [
    "##词频\n",
    "\n",
    "##创建词频字典\n",
    "wordfreq = {}\n",
    "for tokens in  df:\n",
    "    for token in tokens:\n",
    "        if token not in wordfreq.keys():\n",
    "            wordfreq[token] = 1\n",
    "        else:\n",
    "            wordfreq[token] += 1"
   ]
  },
  {
   "cell_type": "code",
   "execution_count": 17,
   "metadata": {
    "id": "63C74B549A4B4060810410960E9907E3",
    "jupyter": {},
    "scrolled": false,
    "slideshow": {
     "slide_type": "slide"
    },
    "tags": []
   },
   "outputs": [],
   "source": [
    "##挑选最常出现的200个\n",
    "import heapq\n",
    "most_freq = heapq.nlargest(200, wordfreq, key=wordfreq.get)"
   ]
  },
  {
   "cell_type": "code",
   "execution_count": 18,
   "metadata": {
    "id": "273B220F861249B0A63526D37B0563F4",
    "jupyter": {},
    "scrolled": false,
    "slideshow": {
     "slide_type": "slide"
    },
    "tags": []
   },
   "outputs": [],
   "source": [
    "##对每一个评论建立词向量\n",
    "sentence_vectors = []\n",
    "for tokens in df:\n",
    "    sent_vec = []\n",
    "    for token in most_freq:\n",
    "        if token in tokens:\n",
    "            sent_vec.append(1)\n",
    "        else:\n",
    "            sent_vec.append(0)\n",
    "    sentence_vectors.append(sent_vec)"
   ]
  },
  {
   "cell_type": "code",
   "execution_count": 19,
   "metadata": {
    "id": "879F5BEE92FA4E6A95318897D854C1FE",
    "jupyter": {},
    "scrolled": false,
    "slideshow": {
     "slide_type": "slide"
    },
    "tags": []
   },
   "outputs": [],
   "source": [
    "#生成每个单词在每个文本的tf值\n",
    "word_idf_values = {}\n",
    "for token in most_freq:\n",
    "    doc_containing_word = 0\n",
    "    for document in df:\n",
    "        if token in document:\n",
    "            doc_containing_word += 1\n",
    "    word_idf_values[token] = np.log(len(corpus)/(1 + doc_containing_word))"
   ]
  },
  {
   "cell_type": "code",
   "execution_count": 20,
   "metadata": {
    "id": "F05B1635CF16431D8FC0025510AC556B",
    "jupyter": {},
    "scrolled": false,
    "slideshow": {
     "slide_type": "slide"
    },
    "tags": []
   },
   "outputs": [],
   "source": [
    "word_tf_values = {}#每个单词在每个句子中的tf值\n",
    "for token in most_freq:\n",
    "    sent_tf_vector = []\n",
    "    for document in df:\n",
    "        doc_freq = 0\n",
    "        for word in document:\n",
    "            if token == word:\n",
    "                  doc_freq += 1\n",
    "        word_tf = doc_freq/len(document)\n",
    "        sent_tf_vector.append(word_tf)\n",
    "    word_tf_values[token] = sent_tf_vector"
   ]
  },
  {
   "cell_type": "code",
   "execution_count": 21,
   "metadata": {
    "id": "F20F8DEC38FB41E498771CADEC9DE5D1",
    "jupyter": {},
    "scrolled": false,
    "slideshow": {
     "slide_type": "slide"
    },
    "tags": []
   },
   "outputs": [],
   "source": [
    "tfidf_values = []\n",
    "for token in word_tf_values.keys():\n",
    "    tfidf_sentences = []\n",
    "    for tf_sentence in word_tf_values[token]:\n",
    "        tf_idf_score = tf_sentence * word_idf_values[token]\n",
    "        tfidf_sentences.append(tf_idf_score)\n",
    "    tfidf_values.append(tfidf_sentences)"
   ]
  },
  {
   "cell_type": "code",
   "execution_count": 22,
   "metadata": {
    "id": "D4481F01EB8347ED8DB17B740FED641C",
    "jupyter": {},
    "scrolled": false,
    "slideshow": {
     "slide_type": "slide"
    },
    "tags": []
   },
   "outputs": [
    {
     "data": {
      "text/plain": [
       "200"
      ]
     },
     "execution_count": 22,
     "metadata": {},
     "output_type": "execute_result"
    }
   ],
   "source": [
    "len(tfidf_values)"
   ]
  },
  {
   "cell_type": "code",
   "execution_count": 23,
   "metadata": {
    "id": "F866C803642D4B789512090B7A332AB0",
    "jupyter": {},
    "scrolled": false,
    "slideshow": {
     "slide_type": "slide"
    },
    "tags": []
   },
   "outputs": [],
   "source": [
    "tfidf_values_np = np.array(tfidf_values)"
   ]
  },
  {
   "cell_type": "code",
   "execution_count": 24,
   "metadata": {
    "id": "9AF03BBF1AC44CE58D88EE3D43B1D4D9",
    "jupyter": {},
    "scrolled": false,
    "slideshow": {
     "slide_type": "slide"
    },
    "tags": []
   },
   "outputs": [
    {
     "data": {
      "text/plain": [
       "(200, 156060)"
      ]
     },
     "execution_count": 24,
     "metadata": {},
     "output_type": "execute_result"
    }
   ],
   "source": [
    "tfidf_values_np.shape"
   ]
  },
  {
   "cell_type": "markdown",
   "metadata": {
    "id": "77FD00C6876D47AF89D0156B93A2D79F",
    "jupyter": {},
    "mdEditEnable": false,
    "slideshow": {
     "slide_type": "slide"
    },
    "tags": []
   },
   "source": [
    "### 分割数据集"
   ]
  },
  {
   "cell_type": "code",
   "execution_count": 25,
   "metadata": {
    "id": "C739ADA18F6543A582B75B68634C6112",
    "jupyter": {},
    "scrolled": false,
    "slideshow": {
     "slide_type": "slide"
    },
    "tags": []
   },
   "outputs": [
    {
     "name": "stdout",
     "output_type": "stream",
     "text": [
      "train_size is : 109242.0,test size is 46818.0\n"
     ]
    }
   ],
   "source": [
    "#选择三七分\n",
    "train_size = 156060 * 0.7\n",
    "test_size = 156060 * 0.3\n",
    "\n",
    "print('train_size is : {},test size is {}'.format(train_size,test_size))"
   ]
  },
  {
   "cell_type": "code",
   "execution_count": 31,
   "metadata": {
    "id": "6A4FEBA78ECD41D282D2205DBDE5BD57",
    "jupyter": {},
    "scrolled": false,
    "slideshow": {
     "slide_type": "slide"
    },
    "tags": []
   },
   "outputs": [
    {
     "name": "stdout",
     "output_type": "stream",
     "text": [
      "(200, 109242) 109242\n"
     ]
    }
   ],
   "source": [
    "train_X = tfidf_values_np[:,:109242]\n",
    "test_X = tfidf_values_np[:,109242:]\n",
    "train_Y = Y[:109242]\n",
    "test_Y = Y[109242:]\n",
    "\n",
    "print(train_X.shape,len(train_Y))"
   ]
  },
  {
   "cell_type": "code",
   "execution_count": 59,
   "metadata": {
    "id": "4ED9C2640B9444948DFAAD6243C613DD",
    "jupyter": {},
    "scrolled": false,
    "slideshow": {
     "slide_type": "slide"
    },
    "tags": []
   },
   "outputs": [
    {
     "data": {
      "text/plain": [
       "1706"
      ]
     },
     "execution_count": 59,
     "metadata": {},
     "output_type": "execute_result"
    }
   ],
   "source": [
    "batch_num = 109242//64\n",
    "batch_num"
   ]
  },
  {
   "cell_type": "markdown",
   "metadata": {
    "id": "F63D192209EB480681060A0B3DBD545C",
    "jupyter": {},
    "mdEditEnable": false,
    "scrolled": false,
    "slideshow": {
     "slide_type": "slide"
    },
    "tags": []
   },
   "source": [
    "### 模型训练"
   ]
  },
  {
   "cell_type": "code",
   "execution_count": 28,
   "metadata": {
    "id": "27D0912774AC4C9196AD3302DD9E7D0F",
    "jupyter": {},
    "scrolled": false,
    "slideshow": {
     "slide_type": "slide"
    },
    "tags": []
   },
   "outputs": [],
   "source": [
    "#定义accuracy以及softmax计算公式\n",
    "def getAccuracy(y_hat, y):\n",
    "        return sum((y_hat_i.argmax(axis=1) == y_i) for y_i, y_hat_i in zip(list(y.T), list(y_hat.T))) / len(list(y.T))\n",
    "def softmax(x):\n",
    "    exp_x = np.exp(x)\n",
    "    partition = np.sum(exp_x,axis = 0) #按列相加\n",
    "    return exp_x / partition     "
   ]
  },
  {
   "cell_type": "code",
   "execution_count": 29,
   "metadata": {
    "id": "17F3055A0C4C49388D93C96B0AE95610",
    "jupyter": {},
    "scrolled": false,
    "slideshow": {
     "slide_type": "slide"
    },
    "tags": []
   },
   "outputs": [],
   "source": [
    "#定义梯度计算公式\n",
    "def partial_w(x, y, y_hat):\n",
    "    n = len(y)\n",
    "\n",
    "    gradient = 0\n",
    "    \n",
    "    for x_i, y_i, y_hat_i in zip(list(x.T), list(y.T), list(y_hat.T)):\n",
    "        loss = y_i.reshape(outputs,1) - y_hat_i.reshape(outputs,1)\n",
    "        gradient += loss * x_i.reshape(inputs,1).T\n",
    "    return -1 / n * gradient\n",
    "\n",
    "def partial_b(x, y, y_hat):\n",
    "    n = len(y)\n",
    "\n",
    "    gradient = 0\n",
    "    \n",
    "    for y_i, y_hat_i in zip(list(y.T), list(y_hat.T)):\n",
    "        gradient += y_i.reshape(outputs,1) - y_hat_i.reshape(outputs,1)\n",
    "    \n",
    "    return -1 / n * gradient"
   ]
  },
  {
   "cell_type": "code",
   "execution_count": 33,
   "metadata": {
    "id": "19538B43F0C846AC8866CA69DA3714D4",
    "jupyter": {},
    "scrolled": false,
    "slideshow": {
     "slide_type": "slide"
    },
    "tags": []
   },
   "outputs": [
    {
     "name": "stdout",
     "output_type": "stream",
     "text": [
      "When time is : 0,accuracy is : 0.15625\n",
      "When time is : 50,accuracy is : 0.453125\n",
      "When time is : 100,accuracy is : 0.546875\n",
      "When time is : 150,accuracy is : 0.609375\n",
      "When time is : 200,accuracy is : 0.671875\n",
      "When time is : 250,accuracy is : 0.75\n",
      "When time is : 300,accuracy is : 0.796875\n",
      "When time is : 350,accuracy is : 0.859375\n",
      "When time is : 400,accuracy is : 0.859375\n",
      "When time is : 450,accuracy is : 0.859375\n",
      "When time is : 500,accuracy is : 0.859375\n",
      "When time is : 550,accuracy is : 0.859375\n",
      "When time is : 600,accuracy is : 0.859375\n",
      "When time is : 650,accuracy is : 0.859375\n",
      "When time is : 700,accuracy is : 0.875\n",
      "When time is : 750,accuracy is : 0.875\n",
      "When time is : 800,accuracy is : 0.890625\n",
      "When time is : 850,accuracy is : 0.890625\n",
      "When time is : 900,accuracy is : 0.890625\n",
      "When time is : 950,accuracy is : 0.890625\n",
      "When time is : 1000,accuracy is : 0.890625\n",
      "When time is : 1050,accuracy is : 0.890625\n",
      "When time is : 1100,accuracy is : 0.890625\n",
      "When time is : 1150,accuracy is : 0.890625\n",
      "When time is : 1200,accuracy is : 0.890625\n",
      "When time is : 1250,accuracy is : 0.890625\n",
      "When time is : 1300,accuracy is : 0.890625\n",
      "When time is : 1350,accuracy is : 0.890625\n",
      "When time is : 1400,accuracy is : 0.890625\n",
      "When time is : 1450,accuracy is : 0.890625\n",
      "When time is : 1500,accuracy is : 0.890625\n",
      "When time is : 1550,accuracy is : 0.890625\n",
      "When time is : 1600,accuracy is : 0.890625\n",
      "When time is : 1650,accuracy is : 0.890625\n",
      "When time is : 1700,accuracy is : 0.890625\n",
      "When time is : 1750,accuracy is : 0.890625\n",
      "When time is : 1800,accuracy is : 0.890625\n",
      "When time is : 1850,accuracy is : 0.890625\n",
      "When time is : 1900,accuracy is : 0.890625\n",
      "When time is : 1950,accuracy is : 0.890625\n"
     ]
    }
   ],
   "source": [
    "#先用一个小批量进行训练测试\n",
    "small_X = train_X[:,:64]\n",
    "small_Y = train_Y[:64]\n",
    "trying_times = 2000\n",
    "max_accuracy = 0\n",
    "outputs =  5  #5个输出类别\n",
    "inputs = 200    \n",
    "X = small_X\n",
    "W = np.random.normal(0,0.1,(outputs,inputs)) \n",
    "b = np.zeros(outputs).reshape(outputs,1)\n",
    "y = small_Y\n",
    "y_mat = np.eye(outputs)[Y].T\n",
    "\n",
    "learning_rate = 1e-04\n",
    "\n",
    "\n",
    "update_time = 0\n",
    "\n",
    "for i in range(trying_times):\n",
    "    \n",
    "    y_hat = softmax(np.dot(W,X) + b) \n",
    "    def getAccuracy(y_hat, y):\n",
    "        return sum((y_hat_i.argmax(axis=0) == y_i) for y_i, y_hat_i in zip(list(y), list(y_hat.T))) / len(list(y.T))\n",
    "    \n",
    "    current_accuracy = getAccuracy(y_hat, y)\n",
    "    if current_accuracy > max_accuracy:\n",
    "        max_accuracy = current_accuracy\n",
    "    \n",
    "    if i % 50 == 0: \n",
    "          print('When time is : {},accuracy is : {}'.format(i, max_accuracy))\n",
    "\n",
    "    #计算梯度\n",
    "    w_gradient = partial_w(X,y_mat,y_hat)\n",
    "    \n",
    "    b_gradient = partial_b(X, y_mat, y_hat )\n",
    "    \n",
    "    #更新梯度\n",
    "    W = W + (-1 * w_gradient) * learning_rate\n",
    "\n",
    "    b = b + (-1 * b_gradient) * learning_rate"
   ]
  },
  {
   "cell_type": "code",
   "execution_count": 60,
   "metadata": {
    "id": "8EDEEB9838DE4D23BB66007A0417B5F4",
    "jupyter": {},
    "scrolled": false,
    "slideshow": {
     "slide_type": "slide"
    },
    "tags": []
   },
   "outputs": [
    {
     "name": "stdout",
     "output_type": "stream",
     "text": [
      "When epoch is : 0,accuracy is : 0.890625\n",
      "When epoch is : 1,accuracy is : 0.890625\n",
      "When epoch is : 2,accuracy is : 0.890625\n",
      "When epoch is : 3,accuracy is : 0.890625\n",
      "When epoch is : 4,accuracy is : 0.890625\n"
     ]
    }
   ],
   "source": [
    "#正式训练\n",
    "epochs = 5\n",
    "max_accuracy = 0\n",
    "outputs =  5  #5个输出类别\n",
    "inputs = 200    \n",
    "W = np.random.normal(0,0.1,(outputs,inputs)) \n",
    "b = np.zeros(outputs).reshape(outputs,1)\n",
    "y_mat = np.eye(outputs)[Y].T\n",
    "\n",
    "learning_rate = 1e-04\n",
    "for i in range(epochs):\n",
    "    start =0\n",
    "    end = 64\n",
    "    for j in range(batch_num):\n",
    "        X = train_X[:,start:end]\n",
    "        y = train_Y[start:end]\n",
    "        y_hat = softmax(np.dot(W,X) + b) \n",
    "        current_accuracy = getAccuracy(y_hat, y)\n",
    "        if current_accuracy > max_accuracy:\n",
    "            max_accuracy = current_accuracy\n",
    "        \n",
    "        #计算梯度\n",
    "        w_gradient = partial_w(X,y_mat,y_hat)\n",
    "        \n",
    "        b_gradient = partial_b(X, y_mat, y_hat )\n",
    "        \n",
    "        #更新梯度\n",
    "        W = W + (-1 * w_gradient) * learning_rate\n",
    "    \n",
    "        b = b + (-1 * b_gradient) * learning_rate\n",
    "        \n",
    "        start += 64\n",
    "        end += 64\n",
    "    print('When epoch is : {},accuracy is : {}'.format(i, max_accuracy))"
   ]
  },
  {
   "cell_type": "code",
   "execution_count": null,
   "metadata": {
    "id": "4668464EB9E040BAADC808CFFF2A8686",
    "jupyter": {},
    "slideshow": {
     "slide_type": "slide"
    },
    "tags": []
   },
   "outputs": [],
   "source": []
  }
 ],
 "metadata": {
  "kernelspec": {
   "display_name": "Python 3",
   "language": "python",
   "name": "python3"
  },
  "language_info": {
   "codemirror_mode": {
    "name": "ipython",
    "version": 3
   },
   "file_extension": ".py",
   "mimetype": "text/x-python",
   "name": "python",
   "nbconvert_exporter": "python",
   "pygments_lexer": "ipython3",
   "version": "3.7.6"
  }
 },
 "nbformat": 4,
 "nbformat_minor": 1
}
